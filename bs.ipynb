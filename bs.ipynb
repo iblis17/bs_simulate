{
 "cells": [
  {
   "cell_type": "code",
   "execution_count": 132,
   "metadata": {
    "collapsed": true
   },
   "outputs": [],
   "source": [
    "%matplotlib inline\n",
    "import numpy as np\n",
    "import json\n",
    "import math\n",
    "from random import gauss\n",
    "import matplotlib.pyplot as pyplot"
   ]
  },
  {
   "cell_type": "code",
   "execution_count": 150,
   "metadata": {
    "collapsed": true
   },
   "outputs": [],
   "source": [
    "def bs_model(S, T, v, sigma=1, r=0.02):\n",
    "    return S * math.exp((r - 0.5 * v**2) * T + v * (T ** 0.5) * gauss(0, sigma))"
   ]
  },
  {
   "cell_type": "code",
   "execution_count": 8,
   "metadata": {
    "collapsed": true
   },
   "outputs": [],
   "source": [
    "with open('./txf_date_t5.json') as f:\n",
    "    data = json.load(f)"
   ]
  },
  {
   "cell_type": "code",
   "execution_count": 176,
   "metadata": {
    "collapsed": false
   },
   "outputs": [],
   "source": [
    "def extract_close(data):\n",
    "    return np.array(data)[:, -2].astype(float)\n",
    "\n",
    "\n",
    "# cal volatility\n",
    "def volatility(data: 'Single Date'):\n",
    "    '''\n",
    "    >>> volatility(data[-1])\n",
    "    '''\n",
    "    d = np.array(data)[:, -2].astype(float)\n",
    "    return ((d[1:] - d[:-1]) / d[:-1]).std()\n",
    "\n",
    "\n",
    "def gen_k(data):\n",
    "    close = extract_close(data)\n",
    "    S = close.mean()\n",
    "    T = (60) / (252*86400)  # 1 min\n",
    "    v = volatility(data)\n",
    "\n",
    "    ret = np.empty((len(data)*5,))\n",
    "    for i in range(len(data)*5):\n",
    "        S = bs_model(S=S, T=T, v=v, r=0.02)\n",
    "        ret[i] = round(S)\n",
    "    return ret"
   ]
  },
  {
   "cell_type": "code",
   "execution_count": 177,
   "metadata": {
    "collapsed": false
   },
   "outputs": [
    {
     "data": {
      "text/plain": [
       "array([ 9613.,  9613.,  9613.,  9613.,  9613.,  9612.,  9613.,  9613.,\n",
       "        9613.,  9613.,  9613.,  9612.,  9612.,  9612.,  9612.,  9612.,\n",
       "        9612.,  9612.,  9612.,  9612.,  9612.,  9612.,  9612.,  9612.,\n",
       "        9612.,  9612.,  9612.,  9612.,  9612.,  9612.,  9612.,  9612.,\n",
       "        9612.,  9612.,  9612.,  9612.,  9612.,  9612.,  9612.,  9612.,\n",
       "        9612.,  9612.,  9612.,  9612.,  9612.,  9612.,  9612.,  9612.,\n",
       "        9612.,  9612.,  9612.,  9612.,  9612.,  9612.,  9612.,  9612.,\n",
       "        9612.,  9612.,  9612.,  9612.,  9612.,  9612.,  9612.,  9612.,\n",
       "        9612.,  9612.,  9612.,  9612.,  9612.,  9612.,  9612.,  9612.,\n",
       "        9612.,  9612.,  9612.,  9612.,  9612.,  9612.,  9612.,  9612.,\n",
       "        9612.,  9612.,  9612.,  9612.,  9612.,  9612.,  9612.,  9612.,\n",
       "        9612.,  9612.,  9612.,  9612.,  9612.,  9612.,  9613.,  9613.,\n",
       "        9613.,  9613.,  9612.,  9612.,  9612.,  9612.,  9612.,  9612.,\n",
       "        9612.,  9613.,  9613.,  9613.,  9613.,  9613.,  9613.,  9613.,\n",
       "        9613.,  9613.,  9613.,  9613.,  9613.,  9613.,  9613.,  9613.,\n",
       "        9613.,  9613.,  9613.,  9613.,  9613.,  9613.,  9613.,  9613.,\n",
       "        9613.,  9613.,  9613.,  9613.,  9613.,  9613.,  9613.,  9613.,\n",
       "        9613.,  9613.,  9613.,  9613.,  9613.,  9613.,  9613.,  9613.,\n",
       "        9613.,  9613.,  9613.,  9613.,  9613.,  9613.,  9613.,  9613.,\n",
       "        9613.,  9613.,  9613.,  9613.,  9613.,  9613.,  9613.,  9613.,\n",
       "        9613.,  9613.,  9613.,  9613.,  9613.,  9613.,  9613.,  9613.,\n",
       "        9613.,  9613.,  9613.,  9613.,  9613.,  9613.,  9613.,  9613.,\n",
       "        9613.,  9613.,  9613.,  9613.,  9613.,  9613.,  9613.,  9613.,\n",
       "        9613.,  9613.,  9613.,  9613.,  9613.,  9613.,  9613.,  9613.,\n",
       "        9613.,  9613.,  9613.,  9613.,  9613.,  9613.,  9613.,  9613.,\n",
       "        9613.,  9613.,  9613.,  9613.,  9613.,  9613.,  9613.,  9613.,\n",
       "        9613.,  9613.,  9613.,  9613.,  9613.,  9613.,  9613.,  9613.,\n",
       "        9613.,  9613.,  9613.,  9613.,  9613.,  9613.,  9613.,  9613.,\n",
       "        9613.,  9613.,  9613.,  9613.,  9613.,  9613.,  9613.,  9613.,\n",
       "        9613.,  9613.,  9613.,  9613.,  9613.,  9613.,  9613.,  9613.,\n",
       "        9613.,  9613.,  9613.,  9613.,  9613.,  9613.,  9613.,  9613.,\n",
       "        9613.,  9613.,  9613.,  9613.,  9613.,  9613.,  9613.,  9613.,\n",
       "        9613.,  9613.,  9613.,  9613.,  9613.,  9613.,  9613.,  9613.,\n",
       "        9613.,  9613.,  9613.,  9613.,  9613.,  9613.,  9613.,  9613.,\n",
       "        9613.,  9613.,  9613.,  9613.,  9613.,  9613.,  9613.,  9613.,\n",
       "        9613.,  9613.,  9613.,  9613.,  9613.,  9613.,  9613.,  9613.,\n",
       "        9613.,  9613.,  9613.,  9613.,  9613.,  9613.,  9613.])"
      ]
     },
     "execution_count": 177,
     "metadata": {},
     "output_type": "execute_result"
    }
   ],
   "source": [
    "gen_k(data[-2])"
   ]
  },
  {
   "cell_type": "code",
   "execution_count": null,
   "metadata": {
    "collapsed": false
   },
   "outputs": [],
   "source": []
  },
  {
   "cell_type": "code",
   "execution_count": null,
   "metadata": {
    "collapsed": true
   },
   "outputs": [],
   "source": []
  }
 ],
 "metadata": {
  "kernelspec": {
   "display_name": "Python 3",
   "language": "python",
   "name": "python3"
  },
  "language_info": {
   "codemirror_mode": {
    "name": "ipython",
    "version": 3
   },
   "file_extension": ".py",
   "mimetype": "text/x-python",
   "name": "python",
   "nbconvert_exporter": "python",
   "pygments_lexer": "ipython3",
   "version": "3.4.3"
  }
 },
 "nbformat": 4,
 "nbformat_minor": 0
}
