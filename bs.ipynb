{
 "cells": [
  {
   "cell_type": "code",
   "execution_count": 277,
   "metadata": {
    "collapsed": true
   },
   "outputs": [],
   "source": [
    "%matplotlib inline\n",
    "import numpy as np\n",
    "import json\n",
    "import math\n",
    "from random import gauss\n",
    "import matplotlib.pyplot as pyplot\n",
    "from matplotlib.finance import candlestick_ohlc\n",
    "from datetime import date"
   ]
  },
  {
   "cell_type": "code",
   "execution_count": 150,
   "metadata": {
    "collapsed": true
   },
   "outputs": [],
   "source": [
    "def bs_model(S, T, v, sigma=1, r=0.02):\n",
    "    return S * math.exp((r - 0.5 * v**2) * T + v * (T ** 0.5) * gauss(0, sigma))"
   ]
  },
  {
   "cell_type": "code",
   "execution_count": 298,
   "metadata": {
    "collapsed": true
   },
   "outputs": [],
   "source": [
    "with open('./txf_201409_201410.raw') as f:\n",
    "    data_rel = [list(map(int, line.strip().split('\\t')[1:])) for line in f.readlines()]"
   ]
  },
  {
   "cell_type": "code",
   "execution_count": 307,
   "metadata": {
    "collapsed": false
   },
   "outputs": [],
   "source": [
    "def extract_close(data):\n",
    "    return np.array(data)[:, -1].astype(float)\n",
    "\n",
    "\n",
    "def extract_ohcl(data):\n",
    "    return np.array(data)[:, 2:-1].astype(float)\n",
    "\n",
    "\n",
    "# cal volatility\n",
    "def volatility(data: 'Single Date'):\n",
    "    '''\n",
    "    >>> volatility(data[-1])\n",
    "    \n",
    "    1/4 day\n",
    "    '''\n",
    "    d = np.array(data)[:, -1].astype(float)\n",
    "    return ( ( (d[1:] - d[:-1]) / d[:-1]).std() ) / math.sqrt(1*4 / 252)\n",
    "\n",
    "\n",
    "def gen_k(data, start_price):\n",
    "    close = extract_close(data)\n",
    "    #S = close.mean()\n",
    "    S = start_price\n",
    "    T = 1 / 252  # 1 min\n",
    "    v = volatility(data)\n",
    "\n",
    "    ret = np.empty((len(data) * 4,))\n",
    "    for i in range(len(data) * 4):\n",
    "        S = bs_model(S=S, T=T, v=v, r=0.02)\n",
    "        ret[i] = round(S)\n",
    "    return ret\n",
    "\n",
    "def merge_price(d):\n",
    "    o = d[0]\n",
    "    c = d[-1]\n",
    "    h = d.max()\n",
    "    l = d.min()\n",
    "    return np.array([o, h, l, c])"
   ]
  },
  {
   "cell_type": "code",
   "execution_count": 366,
   "metadata": {
    "collapsed": false
   },
   "outputs": [
    {
     "data": {
      "text/plain": [
       "([<matplotlib.lines.Line2D at 0x828193940>,\n",
       "  <matplotlib.lines.Line2D at 0x82819aa58>,\n",
       "  <matplotlib.lines.Line2D at 0x82819eb00>,\n",
       "  <matplotlib.lines.Line2D at 0x8281a4c18>,\n",
       "  <matplotlib.lines.Line2D at 0x8281aad30>,\n",
       "  <matplotlib.lines.Line2D at 0x8281b0e48>,\n",
       "  <matplotlib.lines.Line2D at 0x8281b6f60>,\n",
       "  <matplotlib.lines.Line2D at 0x8281baeb8>,\n",
       "  <matplotlib.lines.Line2D at 0x8281c0f98>,\n",
       "  <matplotlib.lines.Line2D at 0x8281cb2b0>,\n",
       "  <matplotlib.lines.Line2D at 0x8281d03c8>,\n",
       "  <matplotlib.lines.Line2D at 0x8281d84e0>,\n",
       "  <matplotlib.lines.Line2D at 0x8281dc5f8>,\n",
       "  <matplotlib.lines.Line2D at 0x8281e3710>,\n",
       "  <matplotlib.lines.Line2D at 0x8281e9828>,\n",
       "  <matplotlib.lines.Line2D at 0x8281ee940>,\n",
       "  <matplotlib.lines.Line2D at 0x8281f3a58>,\n",
       "  <matplotlib.lines.Line2D at 0x8281fbb70>,\n",
       "  <matplotlib.lines.Line2D at 0x82816cb00>,\n",
       "  <matplotlib.lines.Line2D at 0x8282027b8>,\n",
       "  <matplotlib.lines.Line2D at 0x82820a8d0>,\n",
       "  <matplotlib.lines.Line2D at 0x82820f9e8>,\n",
       "  <matplotlib.lines.Line2D at 0x828216b00>,\n",
       "  <matplotlib.lines.Line2D at 0x82821bc18>,\n",
       "  <matplotlib.lines.Line2D at 0x828220d30>,\n",
       "  <matplotlib.lines.Line2D at 0x828227e48>,\n",
       "  <matplotlib.lines.Line2D at 0x82822df60>,\n",
       "  <matplotlib.lines.Line2D at 0x828232eb8>,\n",
       "  <matplotlib.lines.Line2D at 0x828238fd0>,\n",
       "  <matplotlib.lines.Line2D at 0x8282432e8>,\n",
       "  <matplotlib.lines.Line2D at 0x828248400>,\n",
       "  <matplotlib.lines.Line2D at 0x82824e518>,\n",
       "  <matplotlib.lines.Line2D at 0x828254630>,\n",
       "  <matplotlib.lines.Line2D at 0x82825a748>,\n",
       "  <matplotlib.lines.Line2D at 0x82825f860>,\n",
       "  <matplotlib.lines.Line2D at 0x828265978>,\n",
       "  <matplotlib.lines.Line2D at 0x82826ba90>,\n",
       "  <matplotlib.lines.Line2D at 0x828271ba8>,\n",
       "  <matplotlib.lines.Line2D at 0x828277cc0>,\n",
       "  <matplotlib.lines.Line2D at 0x82827edd8>,\n",
       "  <matplotlib.lines.Line2D at 0x828282ef0>,\n",
       "  <matplotlib.lines.Line2D at 0x828289e48>,\n",
       "  <matplotlib.lines.Line2D at 0x82828ef60>,\n",
       "  <matplotlib.lines.Line2D at 0x828299278>,\n",
       "  <matplotlib.lines.Line2D at 0x82829f390>,\n",
       "  <matplotlib.lines.Line2D at 0x8282a54a8>,\n",
       "  <matplotlib.lines.Line2D at 0x8282ac5c0>,\n",
       "  <matplotlib.lines.Line2D at 0x8282b16d8>,\n",
       "  <matplotlib.lines.Line2D at 0x8282b67f0>,\n",
       "  <matplotlib.lines.Line2D at 0x8282bc908>,\n",
       "  <matplotlib.lines.Line2D at 0x8282c1a20>,\n",
       "  <matplotlib.lines.Line2D at 0x8282c6b38>],\n",
       " [<matplotlib.patches.Rectangle at 0x828193b70>,\n",
       "  <matplotlib.patches.Rectangle at 0x82819a978>,\n",
       "  <matplotlib.patches.Rectangle at 0x82819ea20>,\n",
       "  <matplotlib.patches.Rectangle at 0x8281a4b70>,\n",
       "  <matplotlib.patches.Rectangle at 0x8281b0160>,\n",
       "  <matplotlib.patches.Rectangle at 0x8281b6198>,\n",
       "  <matplotlib.patches.Rectangle at 0x8281ba2b0>,\n",
       "  <matplotlib.patches.Rectangle at 0x8281c0358>,\n",
       "  <matplotlib.patches.Rectangle at 0x8281c60b8>,\n",
       "  <matplotlib.patches.Rectangle at 0x8281cb1d0>,\n",
       "  <matplotlib.patches.Rectangle at 0x8281d02e8>,\n",
       "  <matplotlib.patches.Rectangle at 0x8281d8400>,\n",
       "  <matplotlib.patches.Rectangle at 0x8281dc518>,\n",
       "  <matplotlib.patches.Rectangle at 0x8281e3630>,\n",
       "  <matplotlib.patches.Rectangle at 0x8281e9748>,\n",
       "  <matplotlib.patches.Rectangle at 0x8281ee860>,\n",
       "  <matplotlib.patches.Rectangle at 0x8281f3978>,\n",
       "  <matplotlib.patches.Rectangle at 0x8281fba90>,\n",
       "  <matplotlib.patches.Rectangle at 0x82810ba90>,\n",
       "  <matplotlib.patches.Rectangle at 0x8282026d8>,\n",
       "  <matplotlib.patches.Rectangle at 0x82820a7f0>,\n",
       "  <matplotlib.patches.Rectangle at 0x82820f908>,\n",
       "  <matplotlib.patches.Rectangle at 0x828216a20>,\n",
       "  <matplotlib.patches.Rectangle at 0x82821bb70>,\n",
       "  <matplotlib.patches.Rectangle at 0x828227160>,\n",
       "  <matplotlib.patches.Rectangle at 0x82822d198>,\n",
       "  <matplotlib.patches.Rectangle at 0x8282322b0>,\n",
       "  <matplotlib.patches.Rectangle at 0x828238358>,\n",
       "  <matplotlib.patches.Rectangle at 0x82823d0f0>,\n",
       "  <matplotlib.patches.Rectangle at 0x828243208>,\n",
       "  <matplotlib.patches.Rectangle at 0x828248320>,\n",
       "  <matplotlib.patches.Rectangle at 0x82824e438>,\n",
       "  <matplotlib.patches.Rectangle at 0x828254550>,\n",
       "  <matplotlib.patches.Rectangle at 0x82825a668>,\n",
       "  <matplotlib.patches.Rectangle at 0x82825f780>,\n",
       "  <matplotlib.patches.Rectangle at 0x828265898>,\n",
       "  <matplotlib.patches.Rectangle at 0x82826b9b0>,\n",
       "  <matplotlib.patches.Rectangle at 0x828271ac8>,\n",
       "  <matplotlib.patches.Rectangle at 0x828277b38>,\n",
       "  <matplotlib.patches.Rectangle at 0x828282128>,\n",
       "  <matplotlib.patches.Rectangle at 0x828289240>,\n",
       "  <matplotlib.patches.Rectangle at 0x82828e2e8>,\n",
       "  <matplotlib.patches.Rectangle at 0x828294080>,\n",
       "  <matplotlib.patches.Rectangle at 0x828299198>,\n",
       "  <matplotlib.patches.Rectangle at 0x82829f2b0>,\n",
       "  <matplotlib.patches.Rectangle at 0x8282a53c8>,\n",
       "  <matplotlib.patches.Rectangle at 0x8282ac4e0>,\n",
       "  <matplotlib.patches.Rectangle at 0x8282b15f8>,\n",
       "  <matplotlib.patches.Rectangle at 0x8282b6710>,\n",
       "  <matplotlib.patches.Rectangle at 0x8282bc828>,\n",
       "  <matplotlib.patches.Rectangle at 0x8282c1940>,\n",
       "  <matplotlib.patches.Rectangle at 0x8282c6a58>])"
      ]
     },
     "execution_count": 366,
     "metadata": {},
     "output_type": "execute_result"
    },
    {
     "data": {
      "image/png": "[encoded data removed]",
      "text/plain": [
       "<matplotlib.figure.Figure at 0x828143198>"
      ]
     },
     "metadata": {},
     "output_type": "display_data"
    }
   ],
   "source": [
    "sim_k = gen_k(data_rel, data_rel[0][0])\n",
    "sim_k = np.array([merge_price(i) for i in sim_k.reshape((sim_k.size // 4, 4))])\n",
    "\n",
    "fig, ax = plt.subplots()\n",
    "fig.set_size_inches(20, 8)\n",
    "candlestick_ohlc(ax,\n",
    "                 np.hstack((np.arange(sim_k.shape[0]).reshape((sim_k.shape[0], 1)), sim_k)), \n",
    "                 width=0.8,\n",
    "                 colorup='r',\n",
    "                 colordown='green')\n",
    "candlestick_ohlc(ax,\n",
    "                 np.hstack((np.arange(sim_k.shape[0]).reshape((sim_k.shape[0], 1)), sim_k)), \n",
    "                 width=0.8,\n",
    "                 colorup='r',\n",
    "                 colordown='green')"
   ]
  },
  {
   "cell_type": "code",
   "execution_count": 367,
   "metadata": {
    "collapsed": false
   },
   "outputs": [
    {
     "ename": "AttributeError",
     "evalue": "'list' object has no attribute 'shape'",
     "output_type": "error",
     "traceback": [
      "\u001b[1;31m---------------------------------------------------------------------------\u001b[0m",
      "\u001b[1;31mAttributeError\u001b[0m                            Traceback (most recent call last)",
      "\u001b[1;32m<ipython-input-367-0a44efd315c2>\u001b[0m in \u001b[0;36m<module>\u001b[1;34m()\u001b[0m\n\u001b[0;32m      2\u001b[0m \u001b[0mfig\u001b[0m\u001b[1;33m.\u001b[0m\u001b[0mset_size_inches\u001b[0m\u001b[1;33m(\u001b[0m\u001b[1;36m20\u001b[0m\u001b[1;33m,\u001b[0m \u001b[1;36m8\u001b[0m\u001b[1;33m)\u001b[0m\u001b[1;33m\u001b[0m\u001b[0m\n\u001b[0;32m      3\u001b[0m candlestick_ohlc(ax,\n\u001b[1;32m----> 4\u001b[1;33m                  \u001b[0mnp\u001b[0m\u001b[1;33m.\u001b[0m\u001b[0mhstack\u001b[0m\u001b[1;33m(\u001b[0m\u001b[1;33m(\u001b[0m\u001b[0mnp\u001b[0m\u001b[1;33m.\u001b[0m\u001b[0marange\u001b[0m\u001b[1;33m(\u001b[0m\u001b[0mdata_rel\u001b[0m\u001b[1;33m.\u001b[0m\u001b[0mshape\u001b[0m\u001b[1;33m[\u001b[0m\u001b[1;36m0\u001b[0m\u001b[1;33m]\u001b[0m\u001b[1;33m)\u001b[0m\u001b[1;33m.\u001b[0m\u001b[0mreshape\u001b[0m\u001b[1;33m(\u001b[0m\u001b[1;33m(\u001b[0m\u001b[0mdata_rel\u001b[0m\u001b[1;33m.\u001b[0m\u001b[0mshape\u001b[0m\u001b[1;33m[\u001b[0m\u001b[1;36m0\u001b[0m\u001b[1;33m]\u001b[0m\u001b[1;33m,\u001b[0m \u001b[1;36m1\u001b[0m\u001b[1;33m)\u001b[0m\u001b[1;33m)\u001b[0m\u001b[1;33m,\u001b[0m \u001b[0mdata_rel\u001b[0m\u001b[1;33m)\u001b[0m\u001b[1;33m)\u001b[0m\u001b[1;33m,\u001b[0m\u001b[1;33m\u001b[0m\u001b[0m\n\u001b[0m\u001b[0;32m      5\u001b[0m                  \u001b[0mwidth\u001b[0m\u001b[1;33m=\u001b[0m\u001b[1;36m0.8\u001b[0m\u001b[1;33m,\u001b[0m\u001b[1;33m\u001b[0m\u001b[0m\n\u001b[0;32m      6\u001b[0m                  \u001b[0mcolorup\u001b[0m\u001b[1;33m=\u001b[0m\u001b[1;34m'r'\u001b[0m\u001b[1;33m,\u001b[0m\u001b[1;33m\u001b[0m\u001b[0m\n",
      "\u001b[1;31mAttributeError\u001b[0m: 'list' object has no attribute 'shape'"
     ]
    },
    {
     "data": {
      "image/png": "[encoded data removed]",
      "text/plain": [
       "<matplotlib.figure.Figure at 0x81cd4b278>"
      ]
     },
     "metadata": {},
     "output_type": "display_data"
    }
   ],
   "source": [
    "fig, ax = plt.subplots()\n",
    "fig.set_size_inches(20, 8)\n",
    "candlestick_ohlc(ax,\n",
    "                 np.hstack((np.arange(data_rel.shape[0]).reshape((data_rel.shape[0], 1)), data_rel)), \n",
    "                 width=0.8,\n",
    "                 colorup='r',\n",
    "                 colordown='green')"
   ]
  },
  {
   "cell_type": "code",
   "execution_count": 369,
   "metadata": {
    "collapsed": false
   },
   "outputs": [
    {
     "data": {
      "text/plain": [
       "array([[9253, 9285, 9244, 9275],\n",
       "       [9260, 9266, 9200, 9231],\n",
       "       [9249, 9388, 9247, 9378],\n",
       "       [9386, 9399, 9365, 9391],\n",
       "       [9386, 9408, 9375, 9390],\n",
       "       [9421, 9498, 9420, 9477],\n",
       "       [9492, 9500, 9469, 9479],\n",
       "       [9456, 9485, 9432, 9473],\n",
       "       [9473, 9550, 9470, 9528],\n",
       "       [9512, 9514, 9388, 9410],\n",
       "       [9415, 9482, 9399, 9451],\n",
       "       [9447, 9448, 9380, 9425],\n",
       "       [9444, 9463, 9370, 9407],\n",
       "       [9426, 9530, 9425, 9428],\n",
       "       [9380, 9402, 9310, 9347],\n",
       "       [9376, 9385, 9300, 9302],\n",
       "       [9325, 9328, 9229, 9245],\n",
       "       [9206, 9244, 9172, 9218],\n",
       "       [9219, 9233, 9141, 9154],\n",
       "       [9195, 9248, 9148, 9172],\n",
       "       [9234, 9265, 9213, 9243],\n",
       "       [9281, 9304, 9240, 9265],\n",
       "       [9202, 9205, 9100, 9128],\n",
       "       [9106, 9152, 9102, 9117],\n",
       "       [9095, 9142, 9081, 9127],\n",
       "       [9158, 9168, 8995, 9028],\n",
       "       [8958, 9022, 8937, 8980],\n",
       "       [8991, 9008, 8943, 8982],\n",
       "       [8961, 9021, 8871, 8991],\n",
       "       [8943, 9015, 8911, 8980],\n",
       "       [8920, 9020, 8905, 8993],\n",
       "       [9004, 9107, 8994, 9101],\n",
       "       [9098, 9110, 9056, 9084],\n",
       "       [9034, 9048, 8976, 9017],\n",
       "       [8986, 9029, 8928, 8933],\n",
       "       [8997, 9039, 8948, 8981],\n",
       "       [8798, 8818, 8712, 8712],\n",
       "       [8730, 8759, 8702, 8745],\n",
       "       [8743, 8763, 8641, 8646],\n",
       "       [8583, 8683, 8506, 8632],\n",
       "       [8658, 8673, 8497, 8500],\n",
       "       [8599, 8681, 8588, 8661],\n",
       "       [8655, 8663, 8616, 8636],\n",
       "       [8748, 8764, 8714, 8744],\n",
       "       [8732, 8740, 8702, 8721],\n",
       "       [8742, 8746, 8609, 8642],\n",
       "       [8675, 8686, 8592, 8642],\n",
       "       [8666, 8805, 8663, 8793],\n",
       "       [8833, 8905, 8818, 8879],\n",
       "       [8878, 8889, 8838, 8881],\n",
       "       [8887, 8978, 8867, 8978],\n",
       "       [8978, 9027, 8942, 8982]])"
      ]
     },
     "execution_count": 369,
     "metadata": {},
     "output_type": "execute_result"
    }
   ],
   "source": [
    "np.array(data_rel)"
   ]
  },
  {
   "cell_type": "code",
   "execution_count": null,
   "metadata": {
    "collapsed": true
   },
   "outputs": [],
   "source": []
  }
 ],
 "metadata": {
  "kernelspec": {
   "display_name": "Python 3",
   "language": "python",
   "name": "python3"
  },
  "language_info": {
   "codemirror_mode": {
    "name": "ipython",
    "version": 3
   },
   "file_extension": ".py",
   "mimetype": "text/x-python",
   "name": "python",
   "nbconvert_exporter": "python",
   "pygments_lexer": "ipython3",
   "version": "3.4.3"
  }
 },
 "nbformat": 4,
 "nbformat_minor": 0
}
