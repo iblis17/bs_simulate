{
 "cells": [
  {
   "cell_type": "code",
   "execution_count": 277,
   "metadata": {
    "collapsed": true
   },
   "outputs": [],
   "source": [
    "%matplotlib inline\n",
    "import numpy as np\n",
    "import json\n",
    "import math\n",
    "from random import gauss\n",
    "import matplotlib.pyplot as pyplot\n",
    "from matplotlib.finance import candlestick_ohlc\n",
    "from datetime import date"
   ]
  },
  {
   "cell_type": "code",
   "execution_count": 150,
   "metadata": {
    "collapsed": true
   },
   "outputs": [],
   "source": [
    "def bs_model(S, T, v, sigma=1, r=0.02):\n",
    "    return S * math.exp((r - 0.5 * v**2) * T + v * (T ** 0.5) * gauss(0, sigma))"
   ]
  },
  {
   "cell_type": "code",
   "execution_count": 298,
   "metadata": {
    "collapsed": true
   },
   "outputs": [],
   "source": [
    "with open('./txf_201409_201410.raw') as f:\n",
    "    data_rel = [list(map(int, line.strip().split('\\t')[1:])) for line in f.readlines()]"
   ]
  },
  {
   "cell_type": "code",
   "execution_count": 307,
   "metadata": {
    "collapsed": false
   },
   "outputs": [],
   "source": [
    "def extract_close(data):\n",
    "    return np.array(data)[:, -1].astype(float)\n",
    "\n",
    "\n",
    "def extract_ohcl(data):\n",
    "    return np.array(data)[:, 2:-1].astype(float)\n",
    "\n",
    "\n",
    "# cal volatility\n",
    "def volatility(data: 'Single Date'):\n",
    "    '''\n",
    "    >>> volatility(data[-1])\n",
    "    \n",
    "    1/4 day\n",
    "    '''\n",
    "    d = np.array(data)[:, -1].astype(float)\n",
    "    return ( ( (d[1:] - d[:-1]) / d[:-1]).std() ) / math.sqrt(1*4 / 252)\n",
    "\n",
    "\n",
    "def gen_k(data, start_price):\n",
    "    close = extract_close(data)\n",
    "    #S = close.mean()\n",
    "    S = start_price\n",
    "    T = 1 / 252  # 1 min\n",
    "    v = volatility(data)\n",
    "\n",
    "    ret = np.empty((len(data) * 4,))\n",
    "    for i in range(len(data) * 4):\n",
    "        S = bs_model(S=S, T=T, v=v, r=0.02)\n",
    "        ret[i] = round(S)\n",
    "    return ret\n",
    "\n",
    "def merge_price(d):\n",
    "    o = d[0]\n",
    "    c = d[-1]\n",
    "    h = d.max()\n",
    "    l = d.min()\n",
    "    return np.array([o, h, l, c])"
   ]
  },
  {
   "cell_type": "code",
   "execution_count": 366,
   "metadata": {
    "collapsed": false
   },
   "outputs": [
    {
     "data": {
      "text/plain": [
       "([<matplotlib.lines.Line2D at 0x828193940>,\n",
       "  <matplotlib.lines.Line2D at 0x82819aa58>,\n",
       "  <matplotlib.lines.Line2D at 0x82819eb00>,\n",
       "  <matplotlib.lines.Line2D at 0x8281a4c18>,\n",
       "  <matplotlib.lines.Line2D at 0x8281aad30>,\n",
       "  <matplotlib.lines.Line2D at 0x8281b0e48>,\n",
       "  <matplotlib.lines.Line2D at 0x8281b6f60>,\n",
       "  <matplotlib.lines.Line2D at 0x8281baeb8>,\n",
       "  <matplotlib.lines.Line2D at 0x8281c0f98>,\n",
       "  <matplotlib.lines.Line2D at 0x8281cb2b0>,\n",
       "  <matplotlib.lines.Line2D at 0x8281d03c8>,\n",
       "  <matplotlib.lines.Line2D at 0x8281d84e0>,\n",
       "  <matplotlib.lines.Line2D at 0x8281dc5f8>,\n",
       "  <matplotlib.lines.Line2D at 0x8281e3710>,\n",
       "  <matplotlib.lines.Line2D at 0x8281e9828>,\n",
       "  <matplotlib.lines.Line2D at 0x8281ee940>,\n",
       "  <matplotlib.lines.Line2D at 0x8281f3a58>,\n",
       "  <matplotlib.lines.Line2D at 0x8281fbb70>,\n",
       "  <matplotlib.lines.Line2D at 0x82816cb00>,\n",
       "  <matplotlib.lines.Line2D at 0x8282027b8>,\n",
       "  <matplotlib.lines.Line2D at 0x82820a8d0>,\n",
       "  <matplotlib.lines.Line2D at 0x82820f9e8>,\n",
       "  <matplotlib.lines.Line2D at 0x828216b00>,\n",
       "  <matplotlib.lines.Line2D at 0x82821bc18>,\n",
       "  <matplotlib.lines.Line2D at 0x828220d30>,\n",
       "  <matplotlib.lines.Line2D at 0x828227e48>,\n",
       "  <matplotlib.lines.Line2D at 0x82822df60>,\n",
       "  <matplotlib.lines.Line2D at 0x828232eb8>,\n",
       "  <matplotlib.lines.Line2D at 0x828238fd0>,\n",
       "  <matplotlib.lines.Line2D at 0x8282432e8>,\n",
       "  <matplotlib.lines.Line2D at 0x828248400>,\n",
       "  <matplotlib.lines.Line2D at 0x82824e518>,\n",
       "  <matplotlib.lines.Line2D at 0x828254630>,\n",
       "  <matplotlib.lines.Line2D at 0x82825a748>,\n",
       "  <matplotlib.lines.Line2D at 0x82825f860>,\n",
       "  <matplotlib.lines.Line2D at 0x828265978>,\n",
       "  <matplotlib.lines.Line2D at 0x82826ba90>,\n",
       "  <matplotlib.lines.Line2D at 0x828271ba8>,\n",
       "  <matplotlib.lines.Line2D at 0x828277cc0>,\n",
       "  <matplotlib.lines.Line2D at 0x82827edd8>,\n",
       "  <matplotlib.lines.Line2D at 0x828282ef0>,\n",
       "  <matplotlib.lines.Line2D at 0x828289e48>,\n",
       "  <matplotlib.lines.Line2D at 0x82828ef60>,\n",
       "  <matplotlib.lines.Line2D at 0x828299278>,\n",
       "  <matplotlib.lines.Line2D at 0x82829f390>,\n",
       "  <matplotlib.lines.Line2D at 0x8282a54a8>,\n",
       "  <matplotlib.lines.Line2D at 0x8282ac5c0>,\n",
       "  <matplotlib.lines.Line2D at 0x8282b16d8>,\n",
       "  <matplotlib.lines.Line2D at 0x8282b67f0>,\n",
       "  <matplotlib.lines.Line2D at 0x8282bc908>,\n",
       "  <matplotlib.lines.Line2D at 0x8282c1a20>,\n",
       "  <matplotlib.lines.Line2D at 0x8282c6b38>],\n",
       " [<matplotlib.patches.Rectangle at 0x828193b70>,\n",
       "  <matplotlib.patches.Rectangle at 0x82819a978>,\n",
       "  <matplotlib.patches.Rectangle at 0x82819ea20>,\n",
       "  <matplotlib.patches.Rectangle at 0x8281a4b70>,\n",
       "  <matplotlib.patches.Rectangle at 0x8281b0160>,\n",
       "  <matplotlib.patches.Rectangle at 0x8281b6198>,\n",
       "  <matplotlib.patches.Rectangle at 0x8281ba2b0>,\n",
       "  <matplotlib.patches.Rectangle at 0x8281c0358>,\n",
       "  <matplotlib.patches.Rectangle at 0x8281c60b8>,\n",
       "  <matplotlib.patches.Rectangle at 0x8281cb1d0>,\n",
       "  <matplotlib.patches.Rectangle at 0x8281d02e8>,\n",
       "  <matplotlib.patches.Rectangle at 0x8281d8400>,\n",
       "  <matplotlib.patches.Rectangle at 0x8281dc518>,\n",
       "  <matplotlib.patches.Rectangle at 0x8281e3630>,\n",
       "  <matplotlib.patches.Rectangle at 0x8281e9748>,\n",
       "  <matplotlib.patches.Rectangle at 0x8281ee860>,\n",
       "  <matplotlib.patches.Rectangle at 0x8281f3978>,\n",
       "  <matplotlib.patches.Rectangle at 0x8281fba90>,\n",
       "  <matplotlib.patches.Rectangle at 0x82810ba90>,\n",
       "  <matplotlib.patches.Rectangle at 0x8282026d8>,\n",
       "  <matplotlib.patches.Rectangle at 0x82820a7f0>,\n",
       "  <matplotlib.patches.Rectangle at 0x82820f908>,\n",
       "  <matplotlib.patches.Rectangle at 0x828216a20>,\n",
       "  <matplotlib.patches.Rectangle at 0x82821bb70>,\n",
       "  <matplotlib.patches.Rectangle at 0x828227160>,\n",
       "  <matplotlib.patches.Rectangle at 0x82822d198>,\n",
       "  <matplotlib.patches.Rectangle at 0x8282322b0>,\n",
       "  <matplotlib.patches.Rectangle at 0x828238358>,\n",
       "  <matplotlib.patches.Rectangle at 0x82823d0f0>,\n",
       "  <matplotlib.patches.Rectangle at 0x828243208>,\n",
       "  <matplotlib.patches.Rectangle at 0x828248320>,\n",
       "  <matplotlib.patches.Rectangle at 0x82824e438>,\n",
       "  <matplotlib.patches.Rectangle at 0x828254550>,\n",
       "  <matplotlib.patches.Rectangle at 0x82825a668>,\n",
       "  <matplotlib.patches.Rectangle at 0x82825f780>,\n",
       "  <matplotlib.patches.Rectangle at 0x828265898>,\n",
       "  <matplotlib.patches.Rectangle at 0x82826b9b0>,\n",
       "  <matplotlib.patches.Rectangle at 0x828271ac8>,\n",
       "  <matplotlib.patches.Rectangle at 0x828277b38>,\n",
       "  <matplotlib.patches.Rectangle at 0x828282128>,\n",
       "  <matplotlib.patches.Rectangle at 0x828289240>,\n",
       "  <matplotlib.patches.Rectangle at 0x82828e2e8>,\n",
       "  <matplotlib.patches.Rectangle at 0x828294080>,\n",
       "  <matplotlib.patches.Rectangle at 0x828299198>,\n",
       "  <matplotlib.patches.Rectangle at 0x82829f2b0>,\n",
       "  <matplotlib.patches.Rectangle at 0x8282a53c8>,\n",
       "  <matplotlib.patches.Rectangle at 0x8282ac4e0>,\n",
       "  <matplotlib.patches.Rectangle at 0x8282b15f8>,\n",
       "  <matplotlib.patches.Rectangle at 0x8282b6710>,\n",
       "  <matplotlib.patches.Rectangle at 0x8282bc828>,\n",
       "  <matplotlib.patches.Rectangle at 0x8282c1940>,\n",
       "  <matplotlib.patches.Rectangle at 0x8282c6a58>])"
      ]
     },
     "execution_count": 366,
     "metadata": {},
     "output_type": "execute_result"
    },
    {
     "data": {
      "image/png": "[encoded data removed]",
      "text/plain": [
       "<matplotlib.figure.Figure at 0x828143198>"
      ]
     },
     "metadata": {},
     "output_type": "display_data"
    }
   ],
   "source": [
    "sim_k = gen_k(data_rel, data_rel[0][0])\n",
    "sim_k = np.array([merge_price(i) for i in sim_k.reshape((sim_k.size // 4, 4))])\n",
    "\n",
    "fig, ax = plt.subplots()\n",
    "fig.set_size_inches(20, 8)\n",
    "candlestick_ohlc(ax,\n",
    "                 np.hstack((np.arange(sim_k.shape[0]).reshape((sim_k.shape[0], 1)), sim_k)), \n",
    "                 width=0.8,\n",
    "                 colorup='r',\n",
    "                 colordown='green')"
   ]
  },
  {
   "cell_type": "code",
   "execution_count": 332,
   "metadata": {
    "collapsed": false
   },
   "outputs": [
    {
     "data": {
      "text/plain": [
       "(52, 1)"
      ]
     },
     "execution_count": 332,
     "metadata": {},
     "output_type": "execute_result"
    }
   ],
   "source": [
    "np.arange(sim_k.shape[0]).reshape((sim_k.shape[0], 1)).shape"
   ]
  },
  {
   "cell_type": "code",
   "execution_count": 331,
   "metadata": {
    "collapsed": false
   },
   "outputs": [
    {
     "data": {
      "text/plain": [
       "(52, 4)"
      ]
     },
     "execution_count": 331,
     "metadata": {},
     "output_type": "execute_result"
    }
   ],
   "source": [
    "sim_k.shape"
   ]
  },
  {
   "cell_type": "code",
   "execution_count": null,
   "metadata": {
    "collapsed": true
   },
   "outputs": [],
   "source": []
  }
 ],
 "metadata": {
  "kernelspec": {
   "display_name": "Python 3",
   "language": "python",
   "name": "python3"
  },
  "language_info": {
   "codemirror_mode": {
    "name": "ipython",
    "version": 3
   },
   "file_extension": ".py",
   "mimetype": "text/x-python",
   "name": "python",
   "nbconvert_exporter": "python",
   "pygments_lexer": "ipython3",
   "version": "3.4.3"
  }
 },
 "nbformat": 4,
 "nbformat_minor": 0
}
