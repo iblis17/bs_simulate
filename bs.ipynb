{
 "cells": [
  {
   "cell_type": "code",
   "execution_count": 277,
   "metadata": {
    "collapsed": true
   },
   "outputs": [],
   "source": [
    "%matplotlib inline\n",
    "import numpy as np\n",
    "import json\n",
    "import math\n",
    "from random import gauss\n",
    "import matplotlib.pyplot as pyplot\n",
    "from matplotlib.finance import candlestick_ohlc\n",
    "from datetime import date"
   ]
  },
  {
   "cell_type": "code",
   "execution_count": 150,
   "metadata": {
    "collapsed": true
   },
   "outputs": [],
   "source": [
    "def bs_model(S, T, v, sigma=1, r=0.02):\n",
    "    return S * math.exp((r - 0.5 * v**2) * T + v * (T ** 0.5) * gauss(0, sigma))"
   ]
  },
  {
   "cell_type": "code",
   "execution_count": 298,
   "metadata": {
    "collapsed": true
   },
   "outputs": [],
   "source": [
    "with open('./txf_201409_201410.raw') as f:\n",
    "    data_rel = [list(map(int, line.strip().split('\\t')[1:])) for line in f.readlines()]"
   ]
  },
  {
   "cell_type": "code",
   "execution_count": 307,
   "metadata": {
    "collapsed": false
   },
   "outputs": [],
   "source": [
    "def extract_close(data):\n",
    "    return np.array(data)[:, -1].astype(float)\n",
    "\n",
    "\n",
    "def extract_ohcl(data):\n",
    "    return np.array(data)[:, 2:-1].astype(float)\n",
    "\n",
    "\n",
    "# cal volatility\n",
    "def volatility(data: 'Single Date'):\n",
    "    '''\n",
    "    >>> volatility(data[-1])\n",
    "    \n",
    "    1/4 day\n",
    "    '''\n",
    "    d = np.array(data)[:, -1].astype(float)\n",
    "    return ( ( (d[1:] - d[:-1]) / d[:-1]).std() ) / math.sqrt(1*4 / 252)\n",
    "\n",
    "\n",
    "def gen_k(data, start_price):\n",
    "    close = extract_close(data)\n",
    "    #S = close.mean()\n",
    "    S = start_price\n",
    "    T = 1 / 252  # 1 min\n",
    "    v = volatility(data)\n",
    "\n",
    "    ret = np.empty((len(data) * 4,))\n",
    "    for i in range(len(data) * 4):\n",
    "        S = bs_model(S=S, T=T, v=v, r=0.02)\n",
    "        ret[i] = round(S)\n",
    "    return ret\n",
    "\n",
    "def merge_price(d):\n",
    "    o = d[0]\n",
    "    c = d[-1]\n",
    "    h = d.max()\n",
    "    l = d.min()\n",
    "    return np.array([o, h, l, c])"
   ]
  },
  {
   "cell_type": "code",
   "execution_count": 345,
   "metadata": {
    "collapsed": false
   },
   "outputs": [
    {
     "data": {
      "text/plain": [
       "([<matplotlib.lines.Line2D at 0x81cf5c240>,\n",
       "  <matplotlib.lines.Line2D at 0x81cf62358>,\n",
       "  <matplotlib.lines.Line2D at 0x81cf68470>,\n",
       "  <matplotlib.lines.Line2D at 0x81cf6e588>,\n",
       "  <matplotlib.lines.Line2D at 0x81cf746a0>,\n",
       "  <matplotlib.lines.Line2D at 0x81cf787b8>,\n",
       "  <matplotlib.lines.Line2D at 0x81cf7e898>,\n",
       "  <matplotlib.lines.Line2D at 0x81cf849b0>,\n",
       "  <matplotlib.lines.Line2D at 0x81cf8bac8>,\n",
       "  <matplotlib.lines.Line2D at 0x81cf90be0>,\n",
       "  <matplotlib.lines.Line2D at 0x81cf98cf8>,\n",
       "  <matplotlib.lines.Line2D at 0x81cf9de10>,\n",
       "  <matplotlib.lines.Line2D at 0x81cfa2f28>,\n",
       "  <matplotlib.lines.Line2D at 0x81cfa8e80>,\n",
       "  <matplotlib.lines.Line2D at 0x81cfaef98>,\n",
       "  <matplotlib.lines.Line2D at 0x81cfba2b0>,\n",
       "  <matplotlib.lines.Line2D at 0x81cfbf3c8>,\n",
       "  <matplotlib.lines.Line2D at 0x81cfc54e0>,\n",
       "  <matplotlib.lines.Line2D at 0x81cf035c0>,\n",
       "  <matplotlib.lines.Line2D at 0x81cfc5e48>,\n",
       "  <matplotlib.lines.Line2D at 0x81cfccf60>,\n",
       "  <matplotlib.lines.Line2D at 0x81cfd8278>,\n",
       "  <matplotlib.lines.Line2D at 0x81cfde390>,\n",
       "  <matplotlib.lines.Line2D at 0x81cfe34a8>,\n",
       "  <matplotlib.lines.Line2D at 0x81cfe95c0>,\n",
       "  <matplotlib.lines.Line2D at 0x81cfee6d8>,\n",
       "  <matplotlib.lines.Line2D at 0x81cff57f0>,\n",
       "  <matplotlib.lines.Line2D at 0x81cff9908>,\n",
       "  <matplotlib.lines.Line2D at 0x81d000a20>,\n",
       "  <matplotlib.lines.Line2D at 0x81d006b38>,\n",
       "  <matplotlib.lines.Line2D at 0x81d00bc50>,\n",
       "  <matplotlib.lines.Line2D at 0x81d012d68>,\n",
       "  <matplotlib.lines.Line2D at 0x81d019e80>,\n",
       "  <matplotlib.lines.Line2D at 0x81d01ef98>,\n",
       "  <matplotlib.lines.Line2D at 0x81d023ef0>,\n",
       "  <matplotlib.lines.Line2D at 0x81d030208>,\n",
       "  <matplotlib.lines.Line2D at 0x81d035320>,\n",
       "  <matplotlib.lines.Line2D at 0x81d03d438>,\n",
       "  <matplotlib.lines.Line2D at 0x81d041550>,\n",
       "  <matplotlib.lines.Line2D at 0x81d046668>,\n",
       "  <matplotlib.lines.Line2D at 0x81d04c780>,\n",
       "  <matplotlib.lines.Line2D at 0x81d052898>,\n",
       "  <matplotlib.lines.Line2D at 0x81d0589b0>,\n",
       "  <matplotlib.lines.Line2D at 0x81d05eac8>,\n",
       "  <matplotlib.lines.Line2D at 0x81d063be0>,\n",
       "  <matplotlib.lines.Line2D at 0x81d06acf8>,\n",
       "  <matplotlib.lines.Line2D at 0x81d06ee10>,\n",
       "  <matplotlib.lines.Line2D at 0x81d074f28>,\n",
       "  <matplotlib.lines.Line2D at 0x81d07ae80>,\n",
       "  <matplotlib.lines.Line2D at 0x81d080f98>,\n",
       "  <matplotlib.lines.Line2D at 0x81d08c2b0>,\n",
       "  <matplotlib.lines.Line2D at 0x81d0913c8>],\n",
       " [<matplotlib.patches.Rectangle at 0x81cf5c470>,\n",
       "  <matplotlib.patches.Rectangle at 0x81cf62278>,\n",
       "  <matplotlib.patches.Rectangle at 0x81cf68390>,\n",
       "  <matplotlib.patches.Rectangle at 0x81cf6e4a8>,\n",
       "  <matplotlib.patches.Rectangle at 0x81cf745c0>,\n",
       "  <matplotlib.patches.Rectangle at 0x81cf786d8>,\n",
       "  <matplotlib.patches.Rectangle at 0x81cf7e7b8>,\n",
       "  <matplotlib.patches.Rectangle at 0x81cf848d0>,\n",
       "  <matplotlib.patches.Rectangle at 0x81cf8b9e8>,\n",
       "  <matplotlib.patches.Rectangle at 0x81cf90b00>,\n",
       "  <matplotlib.patches.Rectangle at 0x81cf98b70>,\n",
       "  <matplotlib.patches.Rectangle at 0x81cfa2160>,\n",
       "  <matplotlib.patches.Rectangle at 0x81cfa8278>,\n",
       "  <matplotlib.patches.Rectangle at 0x81cfae320>,\n",
       "  <matplotlib.patches.Rectangle at 0x81cfb30b8>,\n",
       "  <matplotlib.patches.Rectangle at 0x81cfba1d0>,\n",
       "  <matplotlib.patches.Rectangle at 0x81cfbf2e8>,\n",
       "  <matplotlib.patches.Rectangle at 0x81cfc5400>,\n",
       "  <matplotlib.patches.Rectangle at 0x81cf31b38>,\n",
       "  <matplotlib.patches.Rectangle at 0x81cfcc2e8>,\n",
       "  <matplotlib.patches.Rectangle at 0x81cfd2080>,\n",
       "  <matplotlib.patches.Rectangle at 0x81cfd8198>,\n",
       "  <matplotlib.patches.Rectangle at 0x81cfde2b0>,\n",
       "  <matplotlib.patches.Rectangle at 0x81cfe33c8>,\n",
       "  <matplotlib.patches.Rectangle at 0x81cfe94e0>,\n",
       "  <matplotlib.patches.Rectangle at 0x81cfee5f8>,\n",
       "  <matplotlib.patches.Rectangle at 0x81cff5710>,\n",
       "  <matplotlib.patches.Rectangle at 0x81cff9828>,\n",
       "  <matplotlib.patches.Rectangle at 0x81d000940>,\n",
       "  <matplotlib.patches.Rectangle at 0x81d006a58>,\n",
       "  <matplotlib.patches.Rectangle at 0x81d00ba90>,\n",
       "  <matplotlib.patches.Rectangle at 0x81d0190b8>,\n",
       "  <matplotlib.patches.Rectangle at 0x81d01e1d0>,\n",
       "  <matplotlib.patches.Rectangle at 0x81d0232e8>,\n",
       "  <matplotlib.patches.Rectangle at 0x81d0293c8>,\n",
       "  <matplotlib.patches.Rectangle at 0x81d030128>,\n",
       "  <matplotlib.patches.Rectangle at 0x81d035240>,\n",
       "  <matplotlib.patches.Rectangle at 0x81d03d358>,\n",
       "  <matplotlib.patches.Rectangle at 0x81d041470>,\n",
       "  <matplotlib.patches.Rectangle at 0x81d046588>,\n",
       "  <matplotlib.patches.Rectangle at 0x81d04c6a0>,\n",
       "  <matplotlib.patches.Rectangle at 0x81d0527b8>,\n",
       "  <matplotlib.patches.Rectangle at 0x81d0588d0>,\n",
       "  <matplotlib.patches.Rectangle at 0x81d05e9e8>,\n",
       "  <matplotlib.patches.Rectangle at 0x81d063b00>,\n",
       "  <matplotlib.patches.Rectangle at 0x81d06ab70>,\n",
       "  <matplotlib.patches.Rectangle at 0x81d074160>,\n",
       "  <matplotlib.patches.Rectangle at 0x81d07a278>,\n",
       "  <matplotlib.patches.Rectangle at 0x81d080320>,\n",
       "  <matplotlib.patches.Rectangle at 0x81d0850b8>,\n",
       "  <matplotlib.patches.Rectangle at 0x81d08c1d0>,\n",
       "  <matplotlib.patches.Rectangle at 0x81d0912e8>])"
      ]
     },
     "execution_count": 345,
     "metadata": {},
     "output_type": "execute_result"
    },
    {
     "data": {
      "image/png": "[encoded data removed]",
      "text/plain": [
       "<matplotlib.figure.Figure at 0x81cefcba8>"
      ]
     },
     "metadata": {},
     "output_type": "display_data"
    }
   ],
   "source": [
    "sim_k = gen_k(data_rel, data_rel[0][0])\n",
    "sim_k = np.array([merge_price(i) for i in sim_k.reshape((sim_k.size // 4, 4))])\n",
    "\n",
    "fig, ax = plt.subplots()\n",
    "fig.set_size_inches(20, 10)\n",
    "candlestick_ohlc(ax, np.hstack((np.arange(sim_k.shape[0]).reshape((sim_k.shape[0], 1)), sim_k)))"
   ]
  },
  {
   "cell_type": "code",
   "execution_count": 332,
   "metadata": {
    "collapsed": false
   },
   "outputs": [
    {
     "data": {
      "text/plain": [
       "(52, 1)"
      ]
     },
     "execution_count": 332,
     "metadata": {},
     "output_type": "execute_result"
    }
   ],
   "source": [
    "np.arange(sim_k.shape[0]).reshape((sim_k.shape[0], 1)).shape"
   ]
  },
  {
   "cell_type": "code",
   "execution_count": 331,
   "metadata": {
    "collapsed": false
   },
   "outputs": [
    {
     "data": {
      "text/plain": [
       "(52, 4)"
      ]
     },
     "execution_count": 331,
     "metadata": {},
     "output_type": "execute_result"
    }
   ],
   "source": [
    "sim_k.shape"
   ]
  },
  {
   "cell_type": "code",
   "execution_count": null,
   "metadata": {
    "collapsed": true
   },
   "outputs": [],
   "source": []
  }
 ],
 "metadata": {
  "kernelspec": {
   "display_name": "Python 3",
   "language": "python",
   "name": "python3"
  },
  "language_info": {
   "codemirror_mode": {
    "name": "ipython",
    "version": 3
   },
   "file_extension": ".py",
   "mimetype": "text/x-python",
   "name": "python",
   "nbconvert_exporter": "python",
   "pygments_lexer": "ipython3",
   "version": "3.4.3"
  }
 },
 "nbformat": 4,
 "nbformat_minor": 0
}
